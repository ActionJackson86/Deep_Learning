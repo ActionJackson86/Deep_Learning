{
 "cells": [
  {
   "cell_type": "code",
   "execution_count": 1,
   "metadata": {},
   "outputs": [
    {
     "name": "stderr",
     "output_type": "stream",
     "text": [
      "Using TensorFlow backend.\n"
     ]
    }
   ],
   "source": [
    "#State Farm Distracted Driver Detection\n",
    "#Deep Learning - CSC570\n",
    "#Jackson Roach\n",
    "\n",
    "from keras.utils import to_categorical, multi_gpu_model\n",
    "from keras.models import Model\n",
    "from keras.layers import Dense, Input, Flatten, BatchNormalization, Dropout\n",
    "from keras.layers import Conv2D, MaxPooling2D\n",
    "from keras.callbacks import TensorBoard, ModelCheckpoint\n",
    "from keras.preprocessing.image import ImageDataGenerator\n",
    "from sklearn.metrics import classification_report\n",
    "import pandas as pd\n",
    "import sys\n",
    "from PIL import Image\n",
    "import os\n",
    "\n",
    "sys.modules['Image'] = Image"
   ]
  },
  {
   "cell_type": "code",
   "execution_count": 2,
   "metadata": {},
   "outputs": [],
   "source": [
    "train_path = '/home/ubuntu/final/imgs/train/'\n",
    "test_path = '/home/ubuntu/final/imgs/test/'   \n",
    "driver_imgs_csv = pd.read_csv('/home/ubuntu/final/driver_imgs_list.csv')"
   ]
  },
  {
   "cell_type": "code",
   "execution_count": 3,
   "metadata": {},
   "outputs": [
    {
     "name": "stdout",
     "output_type": "stream",
     "text": [
      "Found 22424 images belonging to 10 classes.\n",
      "Found 0 images belonging to 0 classes.\n"
     ]
    }
   ],
   "source": [
    "#load data\n",
    "train_data_generation = ImageDataGenerator()\n",
    "test_data_generation = ImageDataGenerator()\n",
    "\n",
    "train_set = train_data_generation.flow_from_directory(train_path, target_size = (32, 32), color_mode = \"rgb\", batch_size = 4, class_mode = 'categorical', shuffle = True, seed = 42)\n",
    "\n",
    "test_set = test_data_generation.flow_from_directory(test_path, \n",
    "                                                    target_size = (32, 32),\n",
    "                                                    color_mode = \"rgb\",\n",
    "                                                    batch_size = 4,\n",
    "                                                    class_mode = 'categorical',\n",
    "                                                    shuffle = False,\n",
    "                                                    seed = 42)"
   ]
  },
  {
   "cell_type": "code",
   "execution_count": 4,
   "metadata": {},
   "outputs": [],
   "source": [
    "def build_network(num_gpu = 1, input_shape = None):\n",
    "    inputs = Input(shape = input_shape, name = \"input\")\n",
    "    \n",
    "    #block 1\n",
    "    conv1 = Conv2D(64, (3,3), activation = \"relu\", name = \"conv_1\")(inputs)\n",
    "    batch1 = BatchNormalization(name = \"batch_norm_1\")(conv1)\n",
    "    pool1 = MaxPooling2D(pool_size = (2, 2), name = \"pool_1\")(batch1)\n",
    "    \n",
    "    #block 2\n",
    "    conv2 = Conv2D(64, (3,3), activation = \"relu\", name = \"conv_2\")(pool1)\n",
    "    batch2 = BatchNormalization(name = \"batch_norm_2\")(conv2)\n",
    "    pool2 = MaxPooling2D(pool_size = (2, 2), name = \"pool_2\")(batch2)\n",
    "    \n",
    "    #fully connected layers\n",
    "    flatten = Flatten()(pool2)\n",
    "    fc1 = Dense(512, activation = \"relu\", name = \"fc1\")(flatten)\n",
    "    d1 = Dropout(rate = 0.2, name = \"dropout1\")(fc1)\n",
    "    fc2 = Dense(256, activation = \"relu\", name = \"fc2\")(d1)\n",
    "    d2 = Dropout(rate = 0.2, name = \"dropout2\")(fc2)\n",
    "    \n",
    "    #output\n",
    "    output = Dense(10, activation = \"softmax\", name = \"softmax\")(d2)\n",
    "    \n",
    "    #compile\n",
    "    model = Model(inputs = inputs, outputs = output)\n",
    "    if num_gpu > 1:\n",
    "        model = multi_gpu_model(model, num_gpu)\n",
    "    model.compile(optimizer = \"adam\", loss = \"categorical_crossentropy\", metrics = [\"accuracy\"])\n",
    "    return model"
   ]
  },
  {
   "cell_type": "code",
   "execution_count": 6,
   "metadata": {},
   "outputs": [
    {
     "name": "stdout",
     "output_type": "stream",
     "text": [
      "Epoch 1/5\n",
      "5600/5600 [==============================] - 332s 59ms/step - loss: 0.7962 - acc: 0.7440\n",
      "Epoch 2/5\n",
      "5600/5600 [==============================] - 299s 53ms/step - loss: 0.2530 - acc: 0.9327\n",
      "Epoch 3/5\n",
      "5600/5600 [==============================] - 298s 53ms/step - loss: 0.1867 - acc: 0.9537\n",
      "Epoch 4/5\n",
      "5600/5600 [==============================] - 299s 53ms/step - loss: 0.1454 - acc: 0.9639\n",
      "Epoch 5/5\n",
      "5600/5600 [==============================] - 299s 53ms/step - loss: 0.1200 - acc: 0.9713\n"
     ]
    }
   ],
   "source": [
    "def main():\n",
    "    \n",
    "    #build model\n",
    "    model = build_network(num_gpu = 1, input_shape = (32, 32, 3))\n",
    "    \n",
    "    #fit model\n",
    "    model.fit_generator(train_set,\n",
    "                    steps_per_epoch = 22400/4,\n",
    "                    epochs = 5,\n",
    "                    validation_data = test_set,\n",
    "                    validation_steps = 4000/4)\n",
    "if __name__ == \"__main__\":\n",
    "    main()"
   ]
  },
  {
   "cell_type": "code",
   "execution_count": null,
   "metadata": {},
   "outputs": [],
   "source": []
  }
 ],
 "metadata": {
  "kernelspec": {
   "display_name": "Python 3",
   "language": "python",
   "name": "python3"
  },
  "language_info": {
   "codemirror_mode": {
    "name": "ipython",
    "version": 3
   },
   "file_extension": ".py",
   "mimetype": "text/x-python",
   "name": "python",
   "nbconvert_exporter": "python",
   "pygments_lexer": "ipython3",
   "version": "3.6.6"
  }
 },
 "nbformat": 4,
 "nbformat_minor": 2
}
